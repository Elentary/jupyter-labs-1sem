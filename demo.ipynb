{
 "cells": [
  {
   "cell_type": "markdown",
   "id": "a4ac527e",
   "metadata": {},
   "source": [
    "## Xeus-cling demonstration"
   ]
  },
  {
   "cell_type": "markdown",
   "id": "4fda874c",
   "metadata": {},
   "source": [
    "Это интерактивный ноутбук, который умеет запускать код на C++ в режиме интерпретатора.\n",
    "\n",
    "Для запуска кода в ячейке нажмите `Shift + Enter`"
   ]
  },
  {
   "cell_type": "code",
   "execution_count": 1,
   "id": "45da2bba",
   "metadata": {
    "scrolled": false
   },
   "outputs": [],
   "source": [
    "#include \"labs_common/all.h\"\n",
    "#include <iostream>"
   ]
  },
  {
   "cell_type": "markdown",
   "id": "8990f723",
   "metadata": {},
   "source": [
    "Для ввода и вывода можно использовать стандартные потоки."
   ]
  },
  {
   "cell_type": "code",
   "execution_count": 8,
   "id": "9a627e95",
   "metadata": {},
   "outputs": [
    {
     "name": "stdout",
     "output_type": "stream",
     "text": [
      "3\n"
     ]
    },
    {
     "name": "stderr",
     "output_type": "stream",
     "text": [
      "Some error"
     ]
    },
    {
     "name": "stdout",
     "output_type": "stream",
     "text": [
      "6\n"
     ]
    }
   ],
   "source": [
    "int a;\n",
    "std::cin >> a;\n",
    "std::cerr << \"Some error\";\n",
    "std::cout << a * 2 << std::endl;"
   ]
  },
  {
   "cell_type": "markdown",
   "id": "0986c950",
   "metadata": {},
   "source": [
    "Ещё один вариант вывода результата — пропустить `;` в последней строке. Тогда её результат автоматически отформатируется и выведется на экран."
   ]
  },
  {
   "cell_type": "code",
   "execution_count": 5,
   "id": "5632f5e8",
   "metadata": {},
   "outputs": [
    {
     "data": {
      "text/plain": [
       "8"
      ]
     },
     "execution_count": 5,
     "metadata": {},
     "output_type": "execute_result"
    }
   ],
   "source": [
    "int a = 5;\n",
    "int b = 3;\n",
    "a + b"
   ]
  },
  {
   "cell_type": "code",
   "execution_count": 7,
   "id": "5a686e83",
   "metadata": {},
   "outputs": [
    {
     "data": {
      "text/plain": [
       "{ \"a\", \"b\", \"c\" }"
      ]
     },
     "execution_count": 7,
     "metadata": {},
     "output_type": "execute_result"
    }
   ],
   "source": [
    "std::vector<std::string> v{\"a\", \"b\", \"c\"};\n",
    "v"
   ]
  },
  {
   "attachments": {},
   "cell_type": "markdown",
   "id": "ecd91f0b",
   "metadata": {},
   "source": [
    "Больше примеров, в том числе возможности интерактивного вывода, можно найти [здесь](![image.png](attachment:image.png))."
   ]
  }
 ],
 "metadata": {
  "kernelspec": {
   "display_name": "C++14",
   "language": "C++14",
   "name": "xcpp14"
  },
  "language_info": {
   "codemirror_mode": "text/x-c++src",
   "file_extension": ".cpp",
   "mimetype": "text/x-c++src",
   "name": "c++",
   "version": "14"
  }
 },
 "nbformat": 4,
 "nbformat_minor": 5
}
